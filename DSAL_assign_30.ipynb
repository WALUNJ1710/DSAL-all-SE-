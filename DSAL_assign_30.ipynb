{
 "cells": [
  {
   "cell_type": "code",
   "execution_count": 9,
   "id": "9684c9a1",
   "metadata": {},
   "outputs": [
    {
     "name": "stdout",
     "output_type": "stream",
     "text": [
      "Enter Student's Name: Sahil\n",
      "Enter Roll Number: 49\n",
      "Enter Attendance: 100\n",
      "Enter Unit Test marks: 29\n",
      "Student has any Acheivements? Y/N: y\n",
      "Enter Mock Practical marks: 10\n",
      "\n",
      "Sahil has Attendance 100/100.\n",
      "Unit Test marks 29/30.\n",
      "Acheivements status is 'y'.\n",
      "Practical marks obtained are 10/10.\n",
      "\n",
      "Overall Percentage = 100\n",
      "Assigned Assessments = 2 Assignments + 3 Mini-Project\n"
     ]
    }
   ],
   "source": [
    "'''\n",
    "Q. Program to assign automated assignments based on students performance.\n",
    "\n",
    "Term work Assessments:\n",
    "Attendance ?/100\n",
    "Unit Test ?/30\n",
    "Acheivements Y/N\n",
    "Practical Marks ?/10\n",
    "\n",
    "\n",
    "Formulae: \n",
    "If acheivements status N -> [[Attendance + Unit Test + Practical Marks] / 140] * 100\n",
    "If acheivements status Y then +10 -> [[Attendance + Unit Test + 10 + Practical Marks] / 140] * 100\n",
    "'''\n",
    "\n",
    "\n",
    "def assign_ass(name, roll, att, ut, ach, mck):\n",
    "    out = 0\n",
    "    print(\"\\n{} has Attendance {}/100.\\nUnit Test marks {}/30.\\nAcheivements status is '{}'.\".format(name,att,ut,ach))\n",
    "    print(\"Practical marks obtained are {}/10.\".format(mck))\n",
    "    if ach == \"N\" or ach == \"n\":\n",
    "        forum = ((att + ut + mck)/140)*100\n",
    "    if ach == \"Y\" or ach == \"y\":\n",
    "        forum = ((att + ut + 10 + mck)/140)*100\n",
    "        if forum >= 100:\n",
    "            out = 1\n",
    "            forum = 100\n",
    "            \n",
    "    if out == 0:\n",
    "        print(\"\\nOverall Percentage = {}%\".format(round(forum,2)))\n",
    "        if forum <= 35:\n",
    "            print(\"Assigned Assessments = 10 Assignments + 1 Mini-Project\")\n",
    "        elif forum > 35 and forum <=50:\n",
    "            print(\"Assigned Assessments = 8 Assignments + 1 Mini-Project\")\n",
    "        elif forum > 50 and forum <=75:\n",
    "            print(\"Assigned Assessments = 6 Assignments + 1 Mini-Project\")\n",
    "        elif forum > 75 and forum <=99:\n",
    "            print(\"Assigned Assessments = 4 Assignments + 1 Mini-Project\")\n",
    "        elif forum > 99:\n",
    "            print(\"Assigned Assessments = 2 Assignments + 2 Mini-Projects\")\n",
    "    elif out == 1:\n",
    "        print(\"\\nOverall Percentage = {}%\".format(round(forum,2)))\n",
    "        print(\"Assigned Assessments = 2 Assignments + 3 Mini-Projects\")\n",
    "        \n",
    "    \n",
    "get_name = input(\"Enter Student's Name: \")\n",
    "get_roll = int(input(\"Enter Roll Number: \"))\n",
    "get_att = int(input(\"Enter Attendance: \"))\n",
    "get_ut = int(input(\"Enter Unit Test marks: \"))\n",
    "get_ach = input(\"Student has any Acheivements? Y/N: \")\n",
    "get_mck = int(input(\"Enter Mock Practical marks: \"))\n",
    "\n",
    "\n",
    "assign_ass(get_name, get_roll, get_att, get_ut, get_ach, get_mck)"
   ]
  }
 ],
 "metadata": {
  "kernelspec": {
   "display_name": "Python 3",
   "language": "python",
   "name": "python3"
  },
  "language_info": {
   "codemirror_mode": {
    "name": "ipython",
    "version": 3
   },
   "file_extension": ".py",
   "mimetype": "text/x-python",
   "name": "python",
   "nbconvert_exporter": "python",
   "pygments_lexer": "ipython3",
   "version": "3.8.8"
  }
 },
 "nbformat": 4,
 "nbformat_minor": 5
}
